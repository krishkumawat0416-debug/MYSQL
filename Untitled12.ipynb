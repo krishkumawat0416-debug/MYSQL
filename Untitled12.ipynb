{
  "nbformat": 4,
  "nbformat_minor": 0,
  "metadata": {
    "colab": {
      "provenance": [],
      "authorship_tag": "ABX9TyPQmpyqxvBZVRxJjL/zK3lR",
      "include_colab_link": true
    },
    "kernelspec": {
      "name": "python3",
      "display_name": "Python 3"
    },
    "language_info": {
      "name": "python"
    }
  },
  "cells": [
    {
      "cell_type": "markdown",
      "metadata": {
        "id": "view-in-github",
        "colab_type": "text"
      },
      "source": [
        "<a href=\"https://colab.research.google.com/github/krishkumawat0416-debug/MYSQL/blob/main/Untitled12.ipynb\" target=\"_parent\"><img src=\"https://colab.research.google.com/assets/colab-badge.svg\" alt=\"Open In Colab\"/></a>"
      ]
    },
    {
      "cell_type": "code",
      "execution_count": null,
      "metadata": {
        "colab": {
          "base_uri": "https://localhost:8080/",
          "height": 35
        },
        "id": "2vVT-Q9KSw2K",
        "outputId": "03d8f7c4-559c-48ff-b377-1b1a2ff06ecb"
      },
      "outputs": [
        {
          "output_type": "execute_result",
          "data": {
            "text/plain": [
              "'krish'"
            ],
            "application/vnd.google.colaboratory.intrinsic+json": {
              "type": "string"
            }
          },
          "metadata": {},
          "execution_count": 1
        }
      ],
      "source": [
        "class person:\n",
        "    def __init__(self, name, id, gender):\n",
        "        self.name = name\n",
        "        self.id = id\n",
        "        self.gender = gender\n",
        "\n",
        "# Inheriting all the attributes from the parent class to the child class\n",
        "class Student(person):\n",
        "\n",
        "    def __init__(self, marks, name, id, gender):\n",
        "        super().__init__(name, id, gender)\n",
        "\n",
        "        self.marks = marks\n",
        "class Teacher(person):\n",
        "    def __init__(self, name, id, gender, salary, department):\n",
        "        super().__init__(name, id, gender)\n",
        "        self.salary = salary\n",
        "        self.department = department\n",
        "\n",
        "student = Student(40, \"krish\", 10, \"male\")\n",
        "teacher = Teacher(\"krish\", 102, \"male\", 20000, \"cse\")\n",
        "teacher.name"
      ]
    },
    {
      "cell_type": "code",
      "source": [
        "class Animal:\n",
        "    def __init__(self, name):\n",
        "        self.name = name\n",
        "\n",
        "    def sound(self):\n",
        "        print(f\"name : {self.name}\")\n",
        "\n",
        "class Dog(Animal):\n",
        "    def __init__(self):\n",
        "        super().__init__(\"Dog\")\n",
        "\n",
        "    def sound(self):\n",
        "        print(f\"{self.name} barks\")\n",
        "\n",
        "class Cat(Animal):\n",
        "    def __init__(self):\n",
        "        super().__init__(\"Cat\")\n",
        "\n",
        "    def sound(self):\n",
        "        print(f\"{self.name} meows\")\n",
        "\n",
        "dog.sound()\n",
        "cat.sound()"
      ],
      "metadata": {
        "colab": {
          "base_uri": "https://localhost:8080/"
        },
        "id": "a0I-O9d2Tzc-",
        "outputId": "88464d06-6f3b-4e71-9f54-e8c9471193df"
      },
      "execution_count": null,
      "outputs": [
        {
          "output_type": "stream",
          "name": "stdout",
          "text": [
            "Dog barks\n",
            "Cat meows\n"
          ]
        }
      ]
    },
    {
      "cell_type": "code",
      "source": [
        "class Vehicle:\n",
        "    def __init__(self, brand, colour):\n",
        "        self.brand = brand\n",
        "        self.colour = colour\n",
        "\n",
        "class Car(Vehicle):\n",
        "     def __init__(self, brand, colour, speed, price):\n",
        "       super().__init__(brand, colour)\n",
        "       self.speed = speed\n",
        "       self.price = price\n",
        "\n",
        "     def display(self):\n",
        "        print(f\"brand: {self.brand}\")\n",
        "        print(f\"colour: {self.colour}\")\n",
        "        print(f\"speed: {self.speed}\")\n",
        "        print(f\"price: {self.price}\")\n",
        "\n",
        "car1 = Car(\"Scorpio\", \"Black\", 100, \"21LAkhs\")\n",
        "\n",
        "car1.display()"
      ],
      "metadata": {
        "colab": {
          "base_uri": "https://localhost:8080/"
        },
        "id": "6Q2HKI_UVMc0",
        "outputId": "27588f87-debc-4ac5-eff3-d3bb16b041f2"
      },
      "execution_count": null,
      "outputs": [
        {
          "output_type": "stream",
          "name": "stdout",
          "text": [
            "brand: Scorpio\n",
            "colour: Black\n",
            "speed: 100\n",
            "price: 21LAkhs\n"
          ]
        }
      ]
    },
    {
      "cell_type": "code",
      "source": [
        "class Employee:\n",
        "    def __init__(self, name, id):\n",
        "        self.name = name\n",
        "        self.id = id\n",
        "\n",
        "class Manager(Employee):\n",
        "     def __init__(self, name, id, department):\n",
        "       super().__init__(department)\n",
        "       self.department = department\n",
        "\n",
        "     def display(self):\n",
        "         print(f\"name: {self.name}\")\n",
        "         print(f\"id: {self.id}\")\n",
        "         print(f\"department: {self.department}\")\n",
        "\n",
        "class Developer(Employee):\n",
        "    def __init__self(self, namr, id, programming_language):\n",
        "       super().__init__(programming_language)\n",
        "       self.programming_language\n",
        "\n",
        "    def display(self):\n",
        "        print(f\"name: {self.name}\")\n",
        "        print(f\"id: {self.id}\")\n",
        "        print(f\"programmig_language\")"
      ],
      "metadata": {
        "id": "f85sO0bKYWGK"
      },
      "execution_count": null,
      "outputs": []
    },
    {
      "cell_type": "code",
      "source": [
        "# Multiple inheritance\n",
        "\n",
        "class GrandFather:\n",
        "    def message(self):\n",
        "          print(\"This message from grand father\")\n",
        "# Inherenting the property of the grandfather to the father\n",
        "class Father(GrandFather):\n",
        "    def message_from_father(self):\n",
        "          print(\"This message from father\")\n",
        "# Inhereting the property from the father to child\n",
        "\n",
        "class Child(Father):\n",
        "    def message_from_child(self):\n",
        "        print(\"This message from child\")\n",
        "# Creating  the child object\n",
        "c = Child()\n",
        "# This message show grandfather\n",
        "c.message()\n",
        "c.message_from_father()\n",
        "c.message_from_child()"
      ],
      "metadata": {
        "colab": {
          "base_uri": "https://localhost:8080/"
        },
        "id": "6A_u2rpIVz8T",
        "outputId": "b96170bc-4bac-490e-d96b-295fa6e62d5c"
      },
      "execution_count": null,
      "outputs": [
        {
          "output_type": "stream",
          "name": "stdout",
          "text": [
            "This message from grand father\n",
            "This message from father\n",
            "This message from child\n"
          ]
        }
      ]
    },
    {
      "cell_type": "code",
      "source": [
        "# Multiple Inheritance\n",
        "class Father:\n",
        "    def manner(self):\n",
        "        return \"Has good mannners\"\n",
        "\n",
        "class Mother:\n",
        "     def bargaining(self):\n",
        "        return \"Has good bargaining skills!\"\n",
        "\n",
        "class Child(Mother, Father):\n",
        "      def gaming(self):\n",
        "        return \"Has good gaming skills\"\n",
        "\n",
        "c = Child()\n",
        "c.manner()"
      ],
      "metadata": {
        "colab": {
          "base_uri": "https://localhost:8080/",
          "height": 35
        },
        "id": "824_NpbYXlIx",
        "outputId": "e7154fb7-8be2-4e39-8727-b0f45ca8d71c"
      },
      "execution_count": null,
      "outputs": [
        {
          "output_type": "execute_result",
          "data": {
            "text/plain": [
              "'Has good mannners'"
            ],
            "application/vnd.google.colaboratory.intrinsic+json": {
              "type": "string"
            }
          },
          "metadata": {},
          "execution_count": 4
        }
      ]
    },
    {
      "cell_type": "code",
      "source": [
        "class Teacher:\n",
        "     def __init__(self, subject, expirence):\n",
        "        self.subject = subject\n",
        "        self.expirence = expirence\n",
        "\n",
        "class Singer:\n",
        "    def __init__(self, song, genre):\n",
        "        self.song = song\n",
        "        self.genre = genre\n",
        "\n",
        "class Person(Teacher, Singer):\n",
        "    def __init__(self, name, age, subject, expirence, genre, song):\n",
        "        Teacher.__init__(self, subject, expirence)\n",
        "        Singer.__init__(self, song, genre)\n",
        "        self.name = name\n",
        "        self.age = age\n",
        "p = Person(\"krish\", 21, \"python\", 3, \"classical\", \"soaf\")\n",
        "p.song"
      ],
      "metadata": {
        "colab": {
          "base_uri": "https://localhost:8080/"
        },
        "id": "jGcYe0yHXlFm",
        "outputId": "f6c553a9-da47-4b34-a901-d87f924d0b3d"
      },
      "execution_count": null,
      "outputs": [
        {
          "output_type": "execute_result",
          "data": {
            "text/plain": [
              "str"
            ]
          },
          "metadata": {},
          "execution_count": 19
        }
      ]
    },
    {
      "cell_type": "code",
      "source": [
        "class Singer:\n",
        "   def __init__(self, no_song, genre, album_released):\n",
        "    self.no_song = no_song\n",
        "    self.genre = genre\n",
        "    self.album_released = album_released\n",
        "\n",
        "class Teacher:\n",
        "    def __init__(self, ye_exp, qualification):\n",
        "        self.ye_exp = ye_exp\n",
        "        self.qualification = qualification\n",
        "\n",
        "class Person(Singer, Teacher):\n",
        "    def __init__(self, name, age, gender, no_song, genre, album_released, ye_exp, qualification):\n",
        "        Singer.__init__(self, no_song, genre, album_released)\n",
        "        Teacher.__init__(self, ye_exp, qualification)\n",
        "        self.name = name\n",
        "        self.age = age\n",
        "        self.gender = gender\n",
        "\n",
        "    def display(self):\n",
        "        print(f\"name : {self.name}\")\n",
        "        print(f\"age : {self.age}\")\n",
        "        print(f\"gender : {self.gender}\")\n",
        "        print(f\"no_song : {self.no_song}\")\n",
        "        print(f\"genre : {self.genre}\")\n",
        "        print(f\"album_released : {self.album_released}\")\n",
        "        print(f\"ye_exp : {self.ye_exp}\")\n",
        "        print(f\"qualification : {self.qualification}\")\n",
        "\n",
        "\n",
        "\n",
        "P1 = Person(name = \"Krish\", age = 21, gender = \"Male\", no_song = 50,\n",
        "    genre = \"pop\", album_released = 2025,\n",
        "    ye_exp = 2, qualification = \"BCA\")\n",
        "\n",
        "P1.display()"
      ],
      "metadata": {
        "colab": {
          "base_uri": "https://localhost:8080/"
        },
        "id": "qLAEJbzVHT-U",
        "outputId": "57e0d9e5-2703-4da3-c3be-c28117cde98a"
      },
      "execution_count": null,
      "outputs": [
        {
          "output_type": "stream",
          "name": "stdout",
          "text": [
            "name : Krish\n",
            "age : 21\n",
            "gender : Male\n",
            "no_song : 50\n",
            "genre : pop\n",
            "album_released : 2025\n",
            "ye_exp : 2\n",
            "qualification : BCA\n"
          ]
        }
      ]
    },
    {
      "cell_type": "code",
      "source": [
        "# Make a bank mangment system\n",
        "# withdraw, balance, deposit --> private attribute\n",
        "# Getter and Setter\n",
        "\n",
        "class BankAcc:\n",
        "   def __init__(self, name, balance):\n",
        "      self.name = name\n",
        "      self.__balance = balance\n",
        "\n",
        "   # Getter method to get the balance\n",
        "   def display_bal(self):\n",
        "       print(f\"your balance is : {self.__balance}\")\n",
        "\n",
        "   # Setter method to deposit the balance\n",
        "   def deposit(self, amount):\n",
        "      if amount > 0:\n",
        "        self.__balance += amount\n",
        "        print(f\"Amount deposited succesfully\")\n",
        "        self.display_bal()\n",
        "   # Withdrawning the balance\n",
        "   def withdraw(self, amount) :\n",
        "      if amount < self.__balance:\n",
        "         self.__balance -= amount\n",
        "         print(\"Amount withdrawn sucessfully\")\n",
        "         self.display_balance()\n",
        "acc = BankAcc('krish', 50000000)\n",
        "acc.deposit(4500)\n",
        "# acc.display_bal()\n"
      ],
      "metadata": {
        "colab": {
          "base_uri": "https://localhost:8080/"
        },
        "id": "CX9SHms1LkL5",
        "outputId": "b04d9ed3-acf8-4c52-f28d-4d83e439f7df"
      },
      "execution_count": null,
      "outputs": [
        {
          "output_type": "stream",
          "name": "stdout",
          "text": [
            "Amount deposited succesfully\n",
            "your balance is : 50004500\n"
          ]
        }
      ]
    },
    {
      "cell_type": "code",
      "source": [
        "# polymorphism ---< IT is a concept in ehich mean many form\n",
        "# (1). Overloading ---> NOt possible most of question\n",
        "# (2). Overriding --->\n",
        "class A:\n",
        "  def show(self):\n",
        "    print(\"hello from a\")\n",
        "class B:\n",
        "  def show(self):\n",
        "    print(\"hello from b\")\n",
        "class C:\n",
        "  def show(self):\n",
        "    print(\"hello from c\")\n",
        "class D(C):\n",
        "    pass\n",
        "obj = D()\n",
        "\n",
        "D.__mro__\n",
        "# method resolution order ---> in python defines the order in which methods are\n",
        "# searched for and inherited in a class hierarchy\n",
        "# especially crucial in scenarious involving multiple inheritence\n",
        "\n",
        "# for obj in [A(), B(), C()]:\n",
        "#     obj.show()"
      ],
      "metadata": {
        "colab": {
          "base_uri": "https://localhost:8080/"
        },
        "id": "3r39bFpZaq9s",
        "outputId": "4fb7c181-09cc-468c-ef34-5872dae6bc4a"
      },
      "execution_count": null,
      "outputs": [
        {
          "output_type": "execute_result",
          "data": {
            "text/plain": [
              "(__main__.D, __main__.C, object)"
            ]
          },
          "metadata": {},
          "execution_count": 4
        }
      ]
    },
    {
      "cell_type": "code",
      "source": [
        "class Mother:\n",
        "  def skills(self):\n",
        "     print(\"manage house\")\n",
        "class Father:\n",
        "  def skills(self):\n",
        "     print(\"manage finance\")\n",
        "class c(Father, Mother):\n",
        "    pass\n",
        "obj1 = c()\n",
        "c.__mro__"
      ],
      "metadata": {
        "colab": {
          "base_uri": "https://localhost:8080/"
        },
        "id": "WizRWLzwcy3E",
        "outputId": "54ab1669-6af2-4b15-e089-be2076049e3c"
      },
      "execution_count": null,
      "outputs": [
        {
          "output_type": "execute_result",
          "data": {
            "text/plain": [
              "(__main__.c, __main__.Father, __main__.Mother, object)"
            ]
          },
          "metadata": {},
          "execution_count": 5
        }
      ]
    },
    {
      "cell_type": "code",
      "source": [
        "class Animal:\n",
        "  def sound(Self):\n",
        "    print(\"Animal makes a sound\")\n",
        "class Dog(Animal):\n",
        "  def sound(self):\n",
        "    print(\"Dog barks\")\n",
        "class Cow(Animal):\n",
        "  def sound(self):\n",
        "    print(\"cow meoos\")\n",
        "class Cat(Animal):\n",
        "  def sound(self):\n",
        "    print(\"Cat meows\")\n",
        "\n",
        "for obj in [Dog(), Cow(), Cat()]:\n",
        "    obj.sound()"
      ],
      "metadata": {
        "colab": {
          "base_uri": "https://localhost:8080/"
        },
        "id": "eLtmilFvhCpK",
        "outputId": "5ad30a0d-5568-4f87-8efc-612ea27a6ad1"
      },
      "execution_count": null,
      "outputs": [
        {
          "output_type": "stream",
          "name": "stdout",
          "text": [
            "Dog barks\n",
            "cow meoos\n",
            "Cat meows\n"
          ]
        }
      ]
    },
    {
      "cell_type": "code",
      "source": [
        "class Person:\n",
        "     def __init__(self, name, age):\n",
        "        self.name = name\n",
        "        self.age = age\n",
        "     def display(self):\n",
        "        print(f\"name: {self.name}\")\n",
        "        print(f\"age: {self.age}\")\n",
        "class Employee(Person):\n",
        "    def __init__(self, name, age, id):\n",
        "        super().__init__(name, age)\n",
        "        self.id = id\n",
        "    def display(self):\n",
        "        print(f\"name: {self.name}\")\n",
        "        print(f\"age: {self.age}\")\n",
        "        print(f\"id: {self.id}\")\n",
        "class Manager(Employee):\n",
        "    def __init__(self, name, age, id, department):\n",
        "        super().__init__(name, age, id)\n",
        "        self.department = department\n",
        "    def display(self):\n",
        "        print(f\"name: {self.name}\")\n",
        "        print(f\"age: {self.age}\")\n",
        "        print(f\"id: {self.id}\")\n",
        "        print(f\"department: {self.department}\")\n",
        "\n",
        "m = Manager(\"krish\", 21, \"E102\", \"SOFTWARE\")\n",
        "m.display()"
      ],
      "metadata": {
        "colab": {
          "base_uri": "https://localhost:8080/"
        },
        "id": "o-bVu4ZriyFN",
        "outputId": "0411f543-1f47-4306-bd3a-eb84f712722f"
      },
      "execution_count": null,
      "outputs": [
        {
          "output_type": "stream",
          "name": "stdout",
          "text": [
            "name: krish\n",
            "age: 21\n",
            "id: E102\n",
            "department: SOFTWARE\n"
          ]
        }
      ]
    },
    {
      "cell_type": "code",
      "source": [
        "class Vehicle:\n",
        "    def move(self):\n",
        "       print(\"vehicale is moving\")\n",
        "class Car(Vehicle):\n",
        "    def move(self):\n",
        "       print(\"Car drives in road\")\n",
        "class Boat(Vehicle):\n",
        "    def move(self):\n",
        "       print(\"Boat sails on water\")\n",
        "\n",
        "ve = [Vehicle(), Car(), Boat()]\n",
        "\n",
        "for v in ve:\n",
        "    v.move()"
      ],
      "metadata": {
        "colab": {
          "base_uri": "https://localhost:8080/"
        },
        "id": "6G7YQGuanQKq",
        "outputId": "1fd10474-b5e3-44c0-ca5c-066d5847a484"
      },
      "execution_count": null,
      "outputs": [
        {
          "output_type": "stream",
          "name": "stdout",
          "text": [
            "vehicale is moving\n",
            "Car drives in road\n",
            "Boat sails on water\n"
          ]
        }
      ]
    },
    {
      "cell_type": "code",
      "source": [
        "class Camera:\n",
        "     def capture(self):\n",
        "        print(\"photoshoot\")\n",
        "class Phone:\n",
        "     def call(self):\n",
        "        print(\"calling\")\n",
        "\n",
        "class Smartphone(Camera, Phone):\n",
        "     def browse(self):\n",
        "        print(\"browsing data\")\n",
        "\n",
        "s = Smartphone()\n",
        "\n",
        "s.capture()\n",
        "s.call()\n",
        "s.browse()\n"
      ],
      "metadata": {
        "colab": {
          "base_uri": "https://localhost:8080/"
        },
        "id": "MhLlmFLnodP1",
        "outputId": "1ad8187d-88fa-41a7-9f86-e4093952cef6"
      },
      "execution_count": null,
      "outputs": [
        {
          "output_type": "stream",
          "name": "stdout",
          "text": [
            "photoshoot\n",
            "calling\n",
            "browsing data\n"
          ]
        }
      ]
    },
    {
      "cell_type": "code",
      "source": [
        "class Student:\n",
        "    def __init__(self, name, roll_no):\n",
        "        self.name = name\n",
        "        self.roll_no = roll_no\n",
        "\n",
        "    def display(self):\n",
        "        print(f\"Name: {self.name}\")\n",
        "        print(f\"Roll No: {self.roll_no}\")\n",
        "\n",
        "class Marks(Student):\n",
        "    def __init__(self, name, roll_no, m1, m2, m3):\n",
        "        super().__init__(name, roll_no)\n",
        "        self.m1 = m1\n",
        "        self.m2 = m2\n",
        "        self.m3 = m3\n",
        "\n",
        "    def display(self):\n",
        "        super().display()\n",
        "        print(f\"Marks: {self.m1}, {self.m2}, {self.m3}\")\n",
        "\n",
        "class Result(Marks):\n",
        "    def __init__(self, name, roll_no, m1, m2, m3):\n",
        "        super().__init__(name, roll_no, m1, m2, m3)\n",
        "        self.total = self.m1 + self.m2 + self.m3\n",
        "        self.average = self.total / 3\n",
        "\n",
        "\n",
        "    def display(self):\n",
        "        super().display()\n",
        "        print(f\"Total Marks: {self.total}\")\n",
        "        print(f\"Average Marks: {self.average:.2f}\")\n",
        "\n",
        "\n",
        "r1 = Result(\"krish\", 567, 345, 76, 67)\n",
        "r1.display()\n"
      ],
      "metadata": {
        "colab": {
          "base_uri": "https://localhost:8080/"
        },
        "id": "ZtuVU1P0p6fZ",
        "outputId": "1f41ba58-d55d-4d09-80b0-a446da92758c"
      },
      "execution_count": null,
      "outputs": [
        {
          "output_type": "stream",
          "name": "stdout",
          "text": [
            "Name: krish\n",
            "Roll No: 567\n",
            "Marks: 345, 76, 67\n",
            "Total Marks: 488\n",
            "Average Marks: 162.67\n"
          ]
        }
      ]
    },
    {
      "cell_type": "code",
      "source": [
        "# Encapsulation ----> is a core_object orinted programming(OOP)\n",
        "# concept that bundles data(variable) and the methods that operate data into\n",
        "# sigle unit, like a class, and restricts direct access to the object internal\n",
        "# state\n",
        "\n",
        "class BankAcc:\n",
        "   def __init__(self, acc_no, balance):\n",
        "      self.acc_no = acc_no\n",
        "      self.balance = balance\n",
        "\n",
        "acc = BankAcc(9901, 100.00)\n",
        "print(acc.balance)\n",
        "acc.balance = 200.00\n",
        "print(acc.balance)\n"
      ],
      "metadata": {
        "colab": {
          "base_uri": "https://localhost:8080/"
        },
        "id": "0XGRu4rlrxbo",
        "outputId": "fd79ebec-1d37-4c5b-aac8-b8b376fa6567"
      },
      "execution_count": null,
      "outputs": [
        {
          "output_type": "stream",
          "name": "stdout",
          "text": [
            "100.0\n",
            "200.0\n"
          ]
        }
      ]
    },
    {
      "cell_type": "code",
      "source": [
        "# Encapsulation\n",
        "\n",
        "# There are three attribute into the Encapsulation\n",
        "# Acees Attribute (Public Private, Protected)\n",
        "\n",
        "class Student:\n",
        "    def __init__(self, name, marks):\n",
        "        self.name = name\n",
        "        # Private\n",
        "        self.__marks = marks\n",
        "    # Getter\n",
        "    def display(self):\n",
        "        return self.__marks\n",
        "\n",
        "s1 = Student(\"krish\", 45)\n",
        "print(s1.name)\n",
        "print(s1.display())\n",
        "s1.display()\n"
      ],
      "metadata": {
        "colab": {
          "base_uri": "https://localhost:8080/"
        },
        "id": "fYu3SA9_qnsW",
        "outputId": "a7a84f08-964e-4e35-9b2b-2b354184021a"
      },
      "execution_count": null,
      "outputs": [
        {
          "output_type": "stream",
          "name": "stdout",
          "text": [
            "krish\n",
            "45\n"
          ]
        },
        {
          "output_type": "execute_result",
          "data": {
            "text/plain": [
              "45"
            ]
          },
          "metadata": {},
          "execution_count": 11
        }
      ]
    },
    {
      "cell_type": "code",
      "source": [
        "\n",
        "class Student:\n",
        "    def __init__(self, name, marks):\n",
        "        # Public attribute\n",
        "        self.name = name\n",
        "        # private\n",
        "        self.__marks = marks\n",
        "    # Getter\n",
        "    def display(self):\n",
        "        # here we're accessing the private attribute\n",
        "        return self.__marks\n",
        "     # setter\n",
        "    def change(self, mark):\n",
        "        self.__marks = mark\n",
        "s1 = Student(\"krish\", 45)\n",
        "s1.change(90)\n",
        "print(s1.display())\n"
      ],
      "metadata": {
        "colab": {
          "base_uri": "https://localhost:8080/"
        },
        "id": "UKCsu1Mktm29",
        "outputId": "48dcca87-7ebe-4d12-870b-1e5adb8867fc"
      },
      "execution_count": null,
      "outputs": [
        {
          "output_type": "stream",
          "name": "stdout",
          "text": [
            "90\n"
          ]
        }
      ]
    },
    {
      "cell_type": "code",
      "source": [
        "class BankAccount:\n",
        "    def __init__(self, holder, balance):\n",
        "        self.holder = holder\n",
        "        self.__balance = balance\n",
        "\n",
        "    def display(self):\n",
        "        return self.__balance\n",
        "\n",
        "    def change(self, amount):\n",
        "        self.__balance = amount\n",
        "\n",
        "\n",
        "    def deposit(self, amount):\n",
        "        if amount > 0:\n",
        "            self.__balance += amount\n",
        "\n",
        "\n",
        "    def withdraw(self, amount):\n",
        "        # if 0 < amount <= self.__balance:\n",
        "            self.__balance -= amount\n",
        "\n",
        "acc = BankAccount(\"krish\", 45)\n",
        "acc.deposit(90)\n",
        "acc.withdraw(85)\n",
        "print(acc.display())\n"
      ],
      "metadata": {
        "colab": {
          "base_uri": "https://localhost:8080/"
        },
        "id": "ltOSxCVDvLIx",
        "outputId": "5cce209f-66a6-499d-a8e4-ac4d9be5c27c"
      },
      "execution_count": null,
      "outputs": [
        {
          "output_type": "stream",
          "name": "stdout",
          "text": [
            "50\n"
          ]
        }
      ]
    },
    {
      "cell_type": "code",
      "source": [
        "class Employee:\n",
        "    def __init__(self, name, salary):\n",
        "        self.__name = name\n",
        "        self.__salary = salary\n",
        "\n",
        "    def get_salary(self):\n",
        "        return self.__salary\n",
        "\n",
        "    def set_salary(self, salary):\n",
        "        if salary > 0:\n",
        "            self.__salary = salary\n",
        "\n",
        "\n",
        "e1 = Employee(\"krish\", 5000)\n",
        "print(e1.get_salary())\n"
      ],
      "metadata": {
        "colab": {
          "base_uri": "https://localhost:8080/"
        },
        "id": "GraSdFxL0Arh",
        "outputId": "ea8556fe-d801-4e89-b9ec-6a73fff0a43b"
      },
      "execution_count": null,
      "outputs": [
        {
          "output_type": "stream",
          "name": "stdout",
          "text": [
            "5000\n"
          ]
        }
      ]
    },
    {
      "cell_type": "code",
      "source": [
        "class Product:\n",
        "    def __init__(self, name, price, quantity):\n",
        "        self.name = name\n",
        "        self.__price = price\n",
        "        self.__quantity = quantity\n",
        "\n",
        "    def display(self):\n",
        "        return self.__price, self.__quantity\n",
        "\n",
        "    def change(self, price, quantity):\n",
        "        if price > 0:\n",
        "            self.__price = price\n",
        "        if quantity > 0:\n",
        "            self.__quantity = quantity\n",
        "\n",
        "    def total(self):\n",
        "        return self.__price * self.__quantity\n",
        "\n",
        "\n",
        "p1 = Product(\"Laptop\", 50000, 3)\n",
        "p1.change(650, 5)\n",
        "print(p1.display())\n",
        "print(p1.total())\n"
      ],
      "metadata": {
        "colab": {
          "base_uri": "https://localhost:8080/"
        },
        "id": "kJ4hm0Mj1iuV",
        "outputId": "a0d6478a-bee3-4189-c8be-962f31465f71"
      },
      "execution_count": null,
      "outputs": [
        {
          "output_type": "stream",
          "name": "stdout",
          "text": [
            "(650, 5)\n",
            "3250\n"
          ]
        }
      ]
    },
    {
      "cell_type": "code",
      "source": [
        "class Vehicle:\n",
        "    def __init__(self, speed):\n",
        "        self._speed = speed\n",
        "\n",
        "class Car(Vehicle):\n",
        "    def show_speed(self):\n",
        "        return self._speed\n",
        "\n",
        "    def change_speed(self, speed):\n",
        "        self._speed = speed\n",
        "\n",
        "c1 = Car(100)\n",
        "c1.change_speed(50)\n",
        "print(c1._speed)\n"
      ],
      "metadata": {
        "colab": {
          "base_uri": "https://localhost:8080/"
        },
        "id": "LVLvdyQ_2eyi",
        "outputId": "34345a8b-c5d5-4838-cae6-2ec47bb8c990"
      },
      "execution_count": null,
      "outputs": [
        {
          "output_type": "stream",
          "name": "stdout",
          "text": [
            "50\n"
          ]
        }
      ]
    },
    {
      "cell_type": "code",
      "source": [
        "class Temperature:\n",
        "    def __init__(self, celsius):\n",
        "        self.__celsius = celsius\n",
        "\n",
        "    @property\n",
        "    def fahrenheit(self):\n",
        "        return (self.__celsius * 9/5) + 32\n",
        "\n",
        "    @fahrenheit.setter\n",
        "    def fahrenheit(self, value):\n",
        "        self.__celsius = (value - 32) * 5/9\n",
        "\n",
        "    def get_celsius(self):\n",
        "        return self.__celsius\n",
        "\n",
        "temp = Temperature(0)\n",
        "\n",
        "print(\"Celsius:\", temp.get_celsius())\n",
        "print(\"Fahrenheit:\", temp.fahrenheit)\n",
        "\n",
        "temp.fahrenheit = 212\n",
        "print(\"Celsius after setting 212°F:\", temp.get_celsius())\n"
      ],
      "metadata": {
        "id": "3hK5eKuu33ev",
        "colab": {
          "base_uri": "https://localhost:8080/"
        },
        "outputId": "8d1c551b-280d-43e4-c1cb-4e0d68934903"
      },
      "execution_count": null,
      "outputs": [
        {
          "output_type": "stream",
          "name": "stdout",
          "text": [
            "Celsius: 0\n",
            "Fahrenheit: 32.0\n",
            "Celsius after setting 212°F: 100.0\n"
          ]
        }
      ]
    },
    {
      "cell_type": "code",
      "source": [
        "class Vehicle:\n",
        "    def start(self):\n",
        "        print(\"vehicle start\")\n",
        "    def stop(self):\n",
        "        print(\"vehicle stop\")\n",
        "\n",
        "class Car(Vehicle):\n",
        "    def start(self):\n",
        "        print(\"car start\")\n",
        "    def stop(self):\n",
        "        print(\"car stop\")\n",
        "\n",
        "c = Car()\n",
        "c.start()"
      ],
      "metadata": {
        "colab": {
          "base_uri": "https://localhost:8080/"
        },
        "id": "6fw2aqxu3IwR",
        "outputId": "c236789d-8def-4258-8578-25dff3c4c5c5"
      },
      "execution_count": null,
      "outputs": [
        {
          "output_type": "stream",
          "name": "stdout",
          "text": [
            "car start\n"
          ]
        }
      ]
    },
    {
      "cell_type": "code",
      "source": [
        "# Abstraction:\n",
        "\n",
        "from abc import ABC, abstractmethod\n",
        "# Abstract base class\n",
        "class Vehicle(ABC):\n",
        "    @abstractmethod\n",
        "    def start(self):\n",
        "        pass\n",
        "    def stop(self):\n",
        "        pass\n",
        "\n",
        "class Car(Vehicle):\n",
        "    def start(self):\n",
        "        print(\"The car has started and run with the petrol\")\n",
        "class Bus(Vehicle):\n",
        "    def start(self):\n",
        "        print(\"The bus has started and run with the diesel\")\n",
        "\n",
        "c = Bus()\n",
        "c.start()\n"
      ],
      "metadata": {
        "id": "zqxCDEmcGxbo",
        "colab": {
          "base_uri": "https://localhost:8080/"
        },
        "outputId": "52e8b4f6-3c85-4fad-ebb2-5322a43dc59a"
      },
      "execution_count": 2,
      "outputs": [
        {
          "output_type": "stream",
          "name": "stdout",
          "text": [
            "The bus has started and run with the diesel\n"
          ]
        }
      ]
    },
    {
      "cell_type": "code",
      "source": [
        "from abc import ABC, abstractmethod\n",
        "\n",
        "class Payment(ABC):\n",
        "    @abstractmethod\n",
        "    def make_payment(self, amount):\n",
        "        pass\n",
        "\n",
        "    # def not_pay(self, amount):\n",
        "    #     pass\n",
        "\n",
        "class Cr_card(Payment):\n",
        "    def make_payment(self, amount):\n",
        "        print(f\"Paid {amount} using credit card\")\n",
        "\n",
        "class upi(Payment):\n",
        "      def make_payment(self, amount):\n",
        "          print(f\"Paid {amount} using UPI\")\n",
        "\n",
        "Pay = Cr_card()\n",
        "Pay.make_payment(500)\n",
        "\n"
      ],
      "metadata": {
        "colab": {
          "base_uri": "https://localhost:8080/"
        },
        "id": "-1LhnzkNReAy",
        "outputId": "12c1b858-25ea-4237-e3d0-0f0bbe263ea8"
      },
      "execution_count": 3,
      "outputs": [
        {
          "output_type": "stream",
          "name": "stdout",
          "text": [
            "Paid 500 using credit card\n"
          ]
        }
      ]
    },
    {
      "cell_type": "code",
      "source": [
        "from abc import ABC, abstractmethod\n",
        "\n",
        "class DocumentReader(ABC):\n",
        "    @abstractmethod\n",
        "    def read_document(self, file_path):\n",
        "        pass\n",
        "\n",
        "class PDFReader(DocumentReader):\n",
        "      def read_document(self, file_path):\n",
        "          print(f\"Reading PDF file : {file_path}\")\n",
        "\n",
        "class WordReader(DocumentReader):\n",
        "      def read_document(self, file_path):\n",
        "          print(f\"Reading world file : {file_path}\")\n",
        "\n",
        "file = PDFReader()\n",
        "file.read_document(\"in document format\")"
      ],
      "metadata": {
        "colab": {
          "base_uri": "https://localhost:8080/"
        },
        "id": "k235b7VJVOud",
        "outputId": "5ece7d52-3745-4191-e200-9b2cc66f0cdc"
      },
      "execution_count": 5,
      "outputs": [
        {
          "output_type": "stream",
          "name": "stdout",
          "text": [
            "Reading PDF file : in document format\n"
          ]
        }
      ]
    },
    {
      "cell_type": "code",
      "source": [
        "from abc import ABC, abstractmethod\n",
        "\n",
        "class SmartDevice(ABC):\n",
        "    @abstractmethod\n",
        "    def turn_on(self):\n",
        "        pass\n",
        "\n",
        "    @abstractmethod\n",
        "    def turn_off(self):\n",
        "        pass\n",
        "\n",
        "class SmartLight(SmartDevice):\n",
        "      def turn_on(self):\n",
        "          print(\"Light is turned on\")\n",
        "      def turn_off(self):\n",
        "          print(\"Light is turned off\")\n",
        "class SmartFan(SmartDevice):\n",
        "      def turn_on(self):\n",
        "          print(\"Fan is turned on\")\n",
        "\n",
        "      def turn_off(self):\n",
        "          print(\"Light is turned off\")\n",
        "\n",
        "c = SmartLight()\n",
        "c.turn_on()"
      ],
      "metadata": {
        "colab": {
          "base_uri": "https://localhost:8080/"
        },
        "id": "G5DREX7UXv9Q",
        "outputId": "33587b6b-0164-4221-8901-6afb33d4d751"
      },
      "execution_count": 7,
      "outputs": [
        {
          "output_type": "stream",
          "name": "stdout",
          "text": [
            "Light is turned on\n"
          ]
        }
      ]
    },
    {
      "cell_type": "code",
      "source": [
        "from abc import ABC, abstractmethod\n",
        "\n",
        "class notification(ABC):\n",
        "    @abstractmethod\n",
        "    def send(self,message):\n",
        "        pass\n",
        "class EmailNotification(notification):\n",
        "    def send(self, message):\n",
        "        print(f\"Sending Email: {message}\")\n",
        "class PushNotification(notification):\n",
        "    def send(self, message):\n",
        "        print(f\"Sending Push Notification: {message}\")\n",
        "\n",
        "c = PushNotification()\n",
        "c.send(\"Hello, World!\")\n",
        "\n",
        "v = EmailNotification()\n",
        "v.send(\"Mail Check Kro\")\n",
        "\n"
      ],
      "metadata": {
        "colab": {
          "base_uri": "https://localhost:8080/"
        },
        "id": "X36Bg_bgY8KQ",
        "outputId": "9a3b7896-e8cb-40e5-bee4-25fd3a6a86a6"
      },
      "execution_count": 9,
      "outputs": [
        {
          "output_type": "stream",
          "name": "stdout",
          "text": [
            "Sending Push Notification: Hello, World!\n",
            "Sending Email: Mail Check Kro\n"
          ]
        }
      ]
    },
    {
      "cell_type": "code",
      "source": [
        "from abc import ABC, abstractmethod\n",
        "\n",
        "class DeliveryPartner(ABC):\n",
        "    @abstractmethod\n",
        "    def deliver_order(self,order_id):\n",
        "        pass\n",
        "class ZomatoPartner(DeliveryPartner):\n",
        "    def deliver_order(self, order_id):\n",
        "        print(f\"Zomato is delivering order {order_id}\")\n",
        "class SwiggyPartner(DeliveryPartner):\n",
        "    def deliver_order(self, order_id):\n",
        "        print(f\"Swiggy is delivering order {order_id}\")\n",
        "\n",
        "order = SwiggyPartner()\n",
        "order.deliver_order(12345)"
      ],
      "metadata": {
        "colab": {
          "base_uri": "https://localhost:8080/"
        },
        "id": "MHJhni-HZWwR",
        "outputId": "8a6ee38a-b99f-435f-fd46-00dcd57ed6ab"
      },
      "execution_count": 10,
      "outputs": [
        {
          "output_type": "stream",
          "name": "stdout",
          "text": [
            "Swiggy is delivering order 12345\n"
          ]
        }
      ]
    },
    {
      "cell_type": "code",
      "source": [
        "from abc import ABC, abstractmethod\n",
        "import math\n",
        "\n",
        "class Shape(ABC):\n",
        "    @abstractmethod\n",
        "    def calculate_area(self, calculate_area):\n",
        "        pass\n",
        "class Circle(Shape):\n",
        "    def __init__(self, radius):\n",
        "        self.radius = radius\n",
        "\n",
        "    def calculate_area(self):\n",
        "        return math.pi * self.radius ** 2\n",
        "\n",
        "\n",
        "class Rectangle(Shape):\n",
        "    def __init__(self, width, height):\n",
        "        self.width = width\n",
        "        self.height = height\n",
        "\n",
        "    def calculate_area(self):\n",
        "        return self.width * self.height\n",
        "\n",
        "\n",
        "class Triangle(Shape):\n",
        "    def __init__(self, base, height):\n",
        "        self.base = base\n",
        "        self.height = height\n",
        "\n",
        "    def calculate_area(self):\n",
        "        return 0.5 * self.base * self.height\n",
        "\n",
        "shapes = [\n",
        "    Circle(5),\n",
        "    Rectangle(4, 6),\n",
        "    Triangle(3, 7)\n",
        "]\n",
        "\n",
        "for shape in shapes:\n",
        "    print(f\"Area: {shape.calculate_area()}\")\n",
        "\n"
      ],
      "metadata": {
        "colab": {
          "base_uri": "https://localhost:8080/"
        },
        "id": "kYaGk111bC4C",
        "outputId": "8048675c-3a34-424b-9bec-496b54f43742"
      },
      "execution_count": 11,
      "outputs": [
        {
          "output_type": "stream",
          "name": "stdout",
          "text": [
            "Area: 78.53981633974483\n",
            "Area: 24\n",
            "Area: 10.5\n"
          ]
        }
      ]
    },
    {
      "cell_type": "code",
      "source": [
        "from abc import ABC, abstractmethod\n",
        "class MusicPlayer(ABC):\n",
        "\n",
        "    @abstractmethod\n",
        "    def play(self):\n",
        "        pass\n",
        "\n",
        "    @abstractmethod\n",
        "    def pause(self):\n",
        "        pass\n",
        "\n",
        "    @abstractmethod\n",
        "    def stop(self):\n",
        "        pass\n",
        "class SpotifyPlayer(MusicPlayer):\n",
        "    def play(self):\n",
        "        print(\"Spotify is playing music.\")\n",
        "\n",
        "    def pause(self):\n",
        "        print(\"Spotify music paused.\")\n",
        "\n",
        "    def stop(self):\n",
        "        print(\"Spotify music stopped.\")\n",
        "\n",
        "\n",
        "class AppleMusicPlayer(MusicPlayer):\n",
        "    def play(self):\n",
        "        print(\"Apple Music is playing music.\")\n",
        "\n",
        "    def pause(self):\n",
        "        print(\"Apple Music paused.\")\n",
        "\n",
        "    def stop(self):\n",
        "        print(\"Apple Music stopped.\")\n",
        "def use_music_player(player: MusicPlayer):\n",
        "    player.play()\n",
        "    player.pause()\n",
        "    player.stop()\n",
        "\n",
        "spotify = SpotifyPlayer()\n",
        "apple = AppleMusicPlayer()\n",
        "\n",
        "use_music_player(spotify)\n",
        "use_music_player(apple)\n"
      ],
      "metadata": {
        "colab": {
          "base_uri": "https://localhost:8080/"
        },
        "id": "LCJYbYWzbbNF",
        "outputId": "70d9b3ff-c6bb-4c9a-817c-68f420132773"
      },
      "execution_count": 12,
      "outputs": [
        {
          "output_type": "stream",
          "name": "stdout",
          "text": [
            "Spotify is playing music.\n",
            "Spotify music paused.\n",
            "Spotify music stopped.\n",
            "Apple Music is playing music.\n",
            "Apple Music paused.\n",
            "Apple Music stopped.\n"
          ]
        }
      ]
    }
  ]
}